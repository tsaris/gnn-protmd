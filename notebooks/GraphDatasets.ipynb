{
 "cells": [
  {
   "cell_type": "markdown",
   "metadata": {},
   "source": [
    "# Graph example datasets\n",
    "\n",
    "This notebook is for playing around with some standard graph datasets, e.g. those from pytorch geometric: https://pytorch-geometric.readthedocs.io/en/latest/modules/datasets.html"
   ]
  },
  {
   "cell_type": "code",
   "execution_count": 1,
   "metadata": {},
   "outputs": [],
   "source": [
    "# System imports\n",
    "import os\n",
    "import sys"
   ]
  },
  {
   "cell_type": "code",
   "execution_count": 2,
   "metadata": {},
   "outputs": [],
   "source": [
    "# External imports\n",
    "import torch\n",
    "import torch_geometric"
   ]
  },
  {
   "cell_type": "code",
   "execution_count": 3,
   "metadata": {},
   "outputs": [],
   "source": [
    "# Local imports\n",
    "sys.path.append('..')\n",
    "from data import get_data_loaders"
   ]
  },
  {
   "cell_type": "code",
   "execution_count": 4,
   "metadata": {},
   "outputs": [
    {
     "data": {
      "text/plain": [
       "'/global/cscratch1/sd/sfarrell/gnn-protmd/datasets'"
      ]
     },
     "execution_count": 4,
     "metadata": {},
     "output_type": "execute_result"
    }
   ],
   "source": [
    "# Dataset storage area\n",
    "data_path = os.path.expandvars('$SCRATCH/gnn-protmd/datasets')\n",
    "data_path"
   ]
  },
  {
   "cell_type": "markdown",
   "metadata": {},
   "source": [
    "## TUD Datasets\n",
    "https://chrsmrrs.github.io/datasets/docs/datasets/"
   ]
  },
  {
   "cell_type": "code",
   "execution_count": 5,
   "metadata": {},
   "outputs": [
    {
     "data": {
      "text/plain": [
       "\u001b[0;31mInit signature:\u001b[0m\n",
       "\u001b[0mtorch_geometric\u001b[0m\u001b[0;34m.\u001b[0m\u001b[0mdatasets\u001b[0m\u001b[0;34m.\u001b[0m\u001b[0mTUDataset\u001b[0m\u001b[0;34m(\u001b[0m\u001b[0;34m\u001b[0m\n",
       "\u001b[0;34m\u001b[0m    \u001b[0mroot\u001b[0m\u001b[0;34m,\u001b[0m\u001b[0;34m\u001b[0m\n",
       "\u001b[0;34m\u001b[0m    \u001b[0mname\u001b[0m\u001b[0;34m,\u001b[0m\u001b[0;34m\u001b[0m\n",
       "\u001b[0;34m\u001b[0m    \u001b[0mtransform\u001b[0m\u001b[0;34m=\u001b[0m\u001b[0;32mNone\u001b[0m\u001b[0;34m,\u001b[0m\u001b[0;34m\u001b[0m\n",
       "\u001b[0;34m\u001b[0m    \u001b[0mpre_transform\u001b[0m\u001b[0;34m=\u001b[0m\u001b[0;32mNone\u001b[0m\u001b[0;34m,\u001b[0m\u001b[0;34m\u001b[0m\n",
       "\u001b[0;34m\u001b[0m    \u001b[0mpre_filter\u001b[0m\u001b[0;34m=\u001b[0m\u001b[0;32mNone\u001b[0m\u001b[0;34m,\u001b[0m\u001b[0;34m\u001b[0m\n",
       "\u001b[0;34m\u001b[0m    \u001b[0muse_node_attr\u001b[0m\u001b[0;34m=\u001b[0m\u001b[0;32mFalse\u001b[0m\u001b[0;34m,\u001b[0m\u001b[0;34m\u001b[0m\n",
       "\u001b[0;34m\u001b[0m    \u001b[0muse_edge_attr\u001b[0m\u001b[0;34m=\u001b[0m\u001b[0;32mFalse\u001b[0m\u001b[0;34m,\u001b[0m\u001b[0;34m\u001b[0m\n",
       "\u001b[0;34m\u001b[0m\u001b[0;34m)\u001b[0m\u001b[0;34m\u001b[0m\u001b[0;34m\u001b[0m\u001b[0m\n",
       "\u001b[0;31mDocstring:\u001b[0m     \n",
       "A variety of graph kernel benchmark datasets, *.e.g.* \"IMDB-BINARY\",\n",
       "\"REDDIT-BINARY\" or \"PROTEINS\", collected from the `TU Dortmund University\n",
       "<http://graphkernels.cs.tu-dortmund.de>`_.\n",
       "\n",
       ".. note::\n",
       "    Some datasets may not come with any node labels.\n",
       "    You can then either make use of the argument :obj:`use_node_attr`\n",
       "    to load additional continuous node attributes (if present) or provide\n",
       "    synthetic node features using transforms such as\n",
       "    like :class:`torch_geometric.transforms.Constant` or\n",
       "    :class:`torch_geometric.transforms.OneHotDegree`.\n",
       "\n",
       "Args:\n",
       "    root (string): Root directory where the dataset should be saved.\n",
       "    name (string): The `name <http://graphkernels.cs.tu-dortmund.de>`_ of\n",
       "        the dataset.\n",
       "    transform (callable, optional): A function/transform that takes in an\n",
       "        :obj:`torch_geometric.data.Data` object and returns a transformed\n",
       "        version. The data object will be transformed before every access.\n",
       "        (default: :obj:`None`)\n",
       "    pre_transform (callable, optional): A function/transform that takes in\n",
       "        an :obj:`torch_geometric.data.Data` object and returns a\n",
       "        transformed version. The data object will be transformed before\n",
       "        being saved to disk. (default: :obj:`None`)\n",
       "    pre_filter (callable, optional): A function that takes in an\n",
       "        :obj:`torch_geometric.data.Data` object and returns a boolean\n",
       "        value, indicating whether the data object should be included in the\n",
       "        final dataset. (default: :obj:`None`)\n",
       "    use_node_attr (bool, optional): If :obj:`True`, the dataset will\n",
       "        contain additional continuous node attributes (if present).\n",
       "        (default: :obj:`False`)\n",
       "    use_edge_attr (bool, optional): If :obj:`True`, the dataset will\n",
       "        contain additional continuous edge attributes (if present).\n",
       "        (default: :obj:`False`)\n",
       "\u001b[0;31mFile:\u001b[0m           /usr/common/software/pytorch/v1.4.0/lib/python3.7/site-packages/torch_geometric/datasets/tu_dataset.py\n",
       "\u001b[0;31mType:\u001b[0m           type\n",
       "\u001b[0;31mSubclasses:\u001b[0m     \n"
      ]
     },
     "metadata": {},
     "output_type": "display_data"
    }
   ],
   "source": [
    "torch_geometric.datasets.TUDataset?"
   ]
  },
  {
   "cell_type": "code",
   "execution_count": 6,
   "metadata": {},
   "outputs": [],
   "source": [
    "def get_tudata(data_path, name):\n",
    "    data_path = os.path.join(data_path, name)\n",
    "    return torch_geometric.datasets.TUDataset(root=data_path, name=name,\n",
    "                                              use_node_attr=True, use_edge_attr=True)"
   ]
  },
  {
   "cell_type": "code",
   "execution_count": 7,
   "metadata": {},
   "outputs": [],
   "source": [
    "def summarize_dataset(dataset):\n",
    "    print('Number of samples:', len(dataset))\n",
    "    print('First example contents:', dataset[0])\n",
    "    print('Node features:', dataset.num_node_attributes)\n",
    "    print('Node labels:', dataset.num_node_labels)\n",
    "    print('Edge features:', dataset.num_edge_attributes)\n",
    "    print('Edge labels:', dataset.num_edge_labels)"
   ]
  },
  {
   "cell_type": "code",
   "execution_count": 8,
   "metadata": {},
   "outputs": [
    {
     "name": "stdout",
     "output_type": "stream",
     "text": [
      "Number of samples: 1113\n",
      "First example contents: Data(edge_index=[2, 162], x=[42, 4], y=[1])\n",
      "Node features: 1\n",
      "Node labels: 3\n",
      "Edge features: 0\n",
      "Edge labels: 0\n"
     ]
    }
   ],
   "source": [
    "protein_dataset = get_tudata(data_path, 'PROTEINS')\n",
    "summarize_dataset(protein_dataset)"
   ]
  },
  {
   "cell_type": "code",
   "execution_count": 9,
   "metadata": {},
   "outputs": [
    {
     "data": {
      "text/plain": [
       "tensor([[6., 0., 1., 0.],\n",
       "        [6., 0., 1., 0.],\n",
       "        [6., 0., 1., 0.],\n",
       "        [4., 0., 1., 0.],\n",
       "        [3., 0., 1., 0.]])"
      ]
     },
     "execution_count": 9,
     "metadata": {},
     "output_type": "execute_result"
    }
   ],
   "source": [
    "protein_dataset[1000].x"
   ]
  },
  {
   "cell_type": "code",
   "execution_count": 10,
   "metadata": {},
   "outputs": [
    {
     "name": "stdout",
     "output_type": "stream",
     "text": [
      "Number of samples: 306\n",
      "First example contents: Data(edge_attr=[342, 6], edge_index=[2, 342], x=[19, 8], y=[1])\n",
      "Node features: 0\n",
      "Node labels: 8\n",
      "Edge features: 1\n",
      "Edge labels: 5\n"
     ]
    }
   ],
   "source": [
    "bzrmd_dataset = get_tudata(data_path, 'BZR_MD')\n",
    "summarize_dataset(bzrmd_dataset)"
   ]
  },
  {
   "cell_type": "code",
   "execution_count": 11,
   "metadata": {},
   "outputs": [
    {
     "data": {
      "text/plain": [
       "tensor([[1.3866, 1.0000, 0.0000, 0.0000, 0.0000, 0.0000],\n",
       "        [2.4155, 0.0000, 1.0000, 0.0000, 0.0000, 0.0000],\n",
       "        [2.8045, 0.0000, 1.0000, 0.0000, 0.0000, 0.0000],\n",
       "        ...,\n",
       "        [2.7932, 0.0000, 1.0000, 0.0000, 0.0000, 0.0000],\n",
       "        [2.4173, 0.0000, 1.0000, 0.0000, 0.0000, 0.0000],\n",
       "        [1.3960, 1.0000, 0.0000, 0.0000, 0.0000, 0.0000]])"
      ]
     },
     "execution_count": 11,
     "metadata": {},
     "output_type": "execute_result"
    }
   ],
   "source": [
    "bzrmd_dataset[0].edge_attr"
   ]
  },
  {
   "cell_type": "code",
   "execution_count": 12,
   "metadata": {},
   "outputs": [
    {
     "name": "stdout",
     "output_type": "stream",
     "text": [
      "Number of samples: 2800\n",
      "First example contents: Data(edge_attr=[2, 2], edge_index=[2, 2], x=[2, 2], y=[1])\n",
      "Node features: 2\n",
      "Node labels: 0\n",
      "Edge features: 2\n",
      "Edge labels: 0\n"
     ]
    }
   ],
   "source": [
    "fingerprint_dataset = get_tudata(data_path, 'Fingerprint')\n",
    "summarize_dataset(fingerprint_dataset)"
   ]
  },
  {
   "cell_type": "markdown",
   "metadata": {},
   "source": [
    "## ModelNet\n",
    "\n",
    "https://pytorch-geometric.readthedocs.io/en/latest/modules/datasets.html#torch_geometric.datasets.ModelNet"
   ]
  },
  {
   "cell_type": "code",
   "execution_count": 22,
   "metadata": {},
   "outputs": [],
   "source": [
    "modelnet_dataset = torch_geometric.datasets.ModelNet(os.path.join(data_path, 'ModelNet'))"
   ]
  },
  {
   "cell_type": "code",
   "execution_count": 33,
   "metadata": {},
   "outputs": [
    {
     "data": {
      "text/plain": [
       "ModelNet10(3991)"
      ]
     },
     "execution_count": 33,
     "metadata": {},
     "output_type": "execute_result"
    }
   ],
   "source": [
    "modelnet_dataset"
   ]
  },
  {
   "cell_type": "code",
   "execution_count": 34,
   "metadata": {},
   "outputs": [
    {
     "data": {
      "text/plain": [
       "Data(face=[3, 5594], pos=[6550, 3], y=[1])"
      ]
     },
     "execution_count": 34,
     "metadata": {},
     "output_type": "execute_result"
    }
   ],
   "source": [
    "modelnet_dataset[0]"
   ]
  },
  {
   "cell_type": "code",
   "execution_count": 29,
   "metadata": {},
   "outputs": [
    {
     "data": {
      "text/plain": [
       "0"
      ]
     },
     "execution_count": 29,
     "metadata": {},
     "output_type": "execute_result"
    }
   ],
   "source": [
    "modelnet_dataset.num_edge_features"
   ]
  },
  {
   "cell_type": "markdown",
   "metadata": {},
   "source": [
    "## MNISTSuperPixels\n",
    "\n",
    "https://pytorch-geometric.readthedocs.io/en/latest/modules/datasets.html#torch_geometric.datasets.MNISTSuperpixels"
   ]
  },
  {
   "cell_type": "code",
   "execution_count": 35,
   "metadata": {},
   "outputs": [
    {
     "name": "stdout",
     "output_type": "stream",
     "text": [
      "Downloading http://ls7-www.cs.uni-dortmund.de/cvpr_geometric_dl/mnist_superpixels.tar.gz\n",
      "Extracting /global/cscratch1/sd/sfarrell/gnn-protmd/datasets/MNISTSuperpixels/raw/mnist_superpixels.tar.gz\n",
      "Processing...\n",
      "Done!\n"
     ]
    }
   ],
   "source": [
    "mnist_dataset = torch_geometric.datasets.MNISTSuperpixels(\n",
    "    os.path.join(data_path, 'MNISTSuperpixels'))"
   ]
  },
  {
   "cell_type": "code",
   "execution_count": 36,
   "metadata": {},
   "outputs": [
    {
     "data": {
      "text/plain": [
       "MNISTSuperpixels(60000)"
      ]
     },
     "execution_count": 36,
     "metadata": {},
     "output_type": "execute_result"
    }
   ],
   "source": [
    "mnist_dataset"
   ]
  },
  {
   "cell_type": "code",
   "execution_count": 37,
   "metadata": {},
   "outputs": [
    {
     "data": {
      "text/plain": [
       "Data(edge_index=[2, 1399], pos=[75, 2], x=[75, 1], y=[1])"
      ]
     },
     "execution_count": 37,
     "metadata": {},
     "output_type": "execute_result"
    }
   ],
   "source": [
    "mnist_dataset[0]"
   ]
  },
  {
   "cell_type": "markdown",
   "metadata": {},
   "source": [
    "## Testing the data pipeline"
   ]
  },
  {
   "cell_type": "code",
   "execution_count": 13,
   "metadata": {},
   "outputs": [],
   "source": [
    "data_config = dict(\n",
    "    name='tud',\n",
    "    tud_name='BZR_MD',\n",
    "    n_train=256,\n",
    "    n_valid=128,\n",
    "    batch_size=1,\n",
    "    download_path='$SCRATCH/gnn-protmd/datasets',\n",
    ")"
   ]
  },
  {
   "cell_type": "code",
   "execution_count": 14,
   "metadata": {},
   "outputs": [],
   "source": [
    "train_loader, valid_loader = get_data_loaders(**data_config)"
   ]
  },
  {
   "cell_type": "code",
   "execution_count": 16,
   "metadata": {},
   "outputs": [
    {
     "data": {
      "text/plain": [
       "Batch(batch=[19], edge_attr=[342, 6], edge_index=[2, 342], x=[19, 8], y=[1])"
      ]
     },
     "execution_count": 16,
     "metadata": {},
     "output_type": "execute_result"
    }
   ],
   "source": [
    "next(train_loader.__iter__())"
   ]
  },
  {
   "cell_type": "code",
   "execution_count": 17,
   "metadata": {},
   "outputs": [
    {
     "data": {
      "text/plain": [
       "Batch(batch=[22], edge_attr=[462, 6], edge_index=[2, 462], x=[22, 8], y=[1])"
      ]
     },
     "execution_count": 17,
     "metadata": {},
     "output_type": "execute_result"
    }
   ],
   "source": [
    "next(train_loader.__iter__())"
   ]
  }
 ],
 "metadata": {
  "kernelspec": {
   "display_name": "pytorch-v1.4.0",
   "language": "python",
   "name": "pytorch-v1.4.0"
  },
  "language_info": {
   "codemirror_mode": {
    "name": "ipython",
    "version": 3
   },
   "file_extension": ".py",
   "mimetype": "text/x-python",
   "name": "python",
   "nbconvert_exporter": "python",
   "pygments_lexer": "ipython3",
   "version": "3.7.6"
  }
 },
 "nbformat": 4,
 "nbformat_minor": 4
}
